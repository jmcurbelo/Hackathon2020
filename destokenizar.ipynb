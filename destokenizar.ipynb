{
 "cells": [
  {
   "cell_type": "markdown",
   "metadata": {},
   "source": [
    "# Librerias necesarias"
   ]
  },
  {
   "cell_type": "code",
   "execution_count": 37,
   "metadata": {},
   "outputs": [
    {
     "data": {
      "text/plain": [
       "import org.apache.spark.sql.functions.{conv, lower, concat, upper, lit, regexp_replace}\n",
       "import org.apache.spark.sql.types.IntegerType\n"
      ]
     },
     "execution_count": 37,
     "metadata": {},
     "output_type": "execute_result"
    }
   ],
   "source": [
    "import org.apache.spark.sql.functions.{conv, lower, concat, upper, lit,regexp_replace}\n",
    "import org.apache.spark.sql.types.IntegerType"
   ]
  },
  {
   "cell_type": "markdown",
   "metadata": {},
   "source": [
    "# Funciones UDFs"
   ]
  },
  {
   "cell_type": "code",
   "execution_count": 38,
   "metadata": {},
   "outputs": [
    {
     "data": {
      "text/plain": [
       "parseName: org.apache.spark.sql.expressions.UserDefinedFunction\n",
       "nss: org.apache.spark.sql.expressions.UserDefinedFunction\n"
      ]
     },
     "execution_count": 38,
     "metadata": {},
     "output_type": "execute_result"
    }
   ],
   "source": [
    "//Parsea el nombre\n",
    "def parseName = udf((nombre: String, pattern: String) => {    \n",
    "    val lower = pattern.substring(2).toLowerCase()\n",
    "    val index = nombre.indexOf(lower)\n",
    "    val name = nombre.substring(0, index)\n",
    "    val apellido = nombre.substring(index)\n",
    "    val name1 = name.capitalize\n",
    "    val apellido1 = apellido.capitalize\n",
    "    (name1, apellido1)\n",
    "})\n",
    "\n",
    "//Crea el número de seguridad social\n",
    "def nss = udf((numero: String) => {    \n",
    "    \"0\" * (11 - numero.length()) + numero\n",
    "})"
   ]
  },
  {
   "cell_type": "markdown",
   "metadata": {},
   "source": [
    "# Lectura de los datos"
   ]
  },
  {
   "cell_type": "code",
   "execution_count": 39,
   "metadata": {},
   "outputs": [
    {
     "data": {
      "text/plain": [
       "data: org.apache.spark.sql.DataFrame = [id_cliente: string, NU_CTE: string ... 30 more fields]\n"
      ]
     },
     "execution_count": 39,
     "metadata": {},
     "output_type": "execute_result"
    }
   ],
   "source": [
    "val data = spark.read.option(\"header\",\"true\").csv(\"/Users/jose/Downloads/t_mdco_tfra400_Base3M_1.0.csv\")\n"
   ]
  },
  {
   "cell_type": "markdown",
   "metadata": {},
   "source": [
    "# Ejecución del programa"
   ]
  },
  {
   "cell_type": "code",
   "execution_count": 40,
   "metadata": {},
   "outputs": [
    {
     "name": "stdout",
     "output_type": "stream",
     "text": [
      "+--------------------+--------+------------------+-----------+-------------+----------------+\n",
      "|     nombre_apellido|   fecha|              CURP|        NSS|          RFC|             PAN|\n",
      "+--------------------+--------+------------------+-----------+-------------+----------------+\n",
      "|  [Iolande, Snaddon]|19640402|SNSI640402HDFKLX84|04601204149|SNSI640402AD3|4152547077640402|\n",
      "|   [Jemie, Peachman]|19820713|PEPJ820713MDFLDH08|71680198205|PEPJ820713MS9|4152547156820713|\n",
      "|    [Justus, Murton]|19580905|MUMJ580905HDFUMM71|56513681524|MUMJ580905NU7|4152554629580905|\n",
      "|   [Forester, Nanni]|19530805|NANF530805MDFRRL32|31258182058|NANF530805EU6|4152493161530805|\n",
      "|  [Nathalia, Chiles]|19800731|CHCN800731HDFSYX28|31080683464|CHCN800731UC7|4152544053800731|\n",
      "|       [Cal, Ellson]|19900630|ELEC900630HDFTPS13|84616495835|ELEC900630IL7|4152554629900630|\n",
      "| [Domenic, Limpenny]|19750609|LILD750609MDFISQ18|86556998718|LILD750609XU6|4152494398750609|\n",
      "|[Mallorie, Edgerley]|19681018|EDEM681018HDFMMQ33|66108123054|EDEM681018UM1|4152547492681018|\n",
      "|    [Kally, Jeavons]|19540921|JEJK540921MDFHUV27|07811184707|JEJK540921IW3|4152455515540921|\n",
      "|       [Ricki, Oret]|19800411|OROR800411MDFRNA00|08712877215|OROR800411IN6|4152547077800411|\n",
      "|     [Mina, Sleeman]|19300214|SLSM300214MDFYTY34|54395493502|SLSM300214KE2|4152547492300214|\n",
      "|  [Shamus, Delacote]|19320711|DEDS320711HDFVCS05|51748461432|DEDS320711CV9|4152477210320711|\n",
      "|   [Verne, Duligall]|19370510|DUDV370510HDFMQQ90|83800250068|DUDV370510YX0|4152542010370510|\n",
      "|[Cherish, Trevaskus]|19730408|TRTC730408HDFGVA94|59688155470|TRTC730408PR7|4152547492730408|\n",
      "|     [Alvy, Whinray]|19250115|WHWA250115MDFVCQ47|94055305858|WHWA250115SL9|4152477213250115|\n",
      "|      [Pepe, Naulty]|19311201|NANP311201HDFEVG04|21177113384|NANP311201VE9|4152547095311201|\n",
      "|       [Alyss, Buss]|19931005|BUBA931005HDFFGI66|40547313472|BUBA931005AH4|            null|\n",
      "|   [Milzie, Sellack]|19921022|SESM921022HDFQLS62|56892970729|SESM921022SC2|4152547155921022|\n",
      "|    [Dannye, Rusted]|19691128|RURD691128HDFDQL93|58596818732|RURD691128HJ9|4152455515691128|\n",
      "|[Geneva, Fitzgibbon]|19801027|FIFG801027HDFZVB08|88197463893|FIFG801027AI8|4152547086801027|\n",
      "+--------------------+--------+------------------+-----------+-------------+----------------+\n",
      "only showing top 20 rows\n",
      "\n"
     ]
    },
    {
     "data": {
      "text/plain": [
       "data_real: org.apache.spark.sql.DataFrame = [nombre_apellido: struct<_1: string, _2: string>, fecha: string ... 4 more fields]\n"
      ]
     },
     "execution_count": 40,
     "metadata": {},
     "output_type": "execute_result"
    }
   ],
   "source": [
    "val data_real = data.select(\n",
    "    parseName($\"desc_text\", $\"desc_id\").as(\"nombre_apellido\"),\n",
    "    concat(col(\"`registro.xls`\").substr(8,6), col(\"clave_id\").substr(5,2)).as(\"fecha\"),\n",
    "    concat(upper(col(\"desc_id\")).substr(3,2),\n",
    "           upper(col(\"desc_id\")).substr(3,1),\n",
    "           upper(col(\"desc_id\")).substr(1,1),\n",
    "           concat(col(\"`registro.xls`\").substr(10,4), col(\"clave_id\").substr(5,2)),\n",
    "           col(\"agrupacion_id\"),\n",
    "           col(\"CURP\")     \n",
    "          ).as(\"CURP\"),\n",
    "    nss(conv(col(\"NSS\"),8,10)).as(\"NSS\"),\n",
    "    concat(upper(col(\"desc_id\")).substr(3,2),\n",
    "           upper(col(\"desc_id\")).substr(3,1),\n",
    "           upper(col(\"desc_id\")).substr(1,1),\n",
    "           concat(col(\"`registro.xls`\").substr(10,4), col(\"clave_id\").substr(5,2)),\n",
    "           col(\"producto_id\")\n",
    "           ).as(\"RFC\"),\n",
    "    concat(lit(\"4152\"), conv(concat(col(\"producto_1_number\"), col(\"bin_2_number\")), 2, 10), col(\"clave_id\"))\n",
    "    .as(\"PAN\")\n",
    ")\n",
    "data_real.show"
   ]
  },
  {
   "cell_type": "markdown",
   "metadata": {},
   "source": [
    "# Correo"
   ]
  },
  {
   "cell_type": "code",
   "execution_count": 41,
   "metadata": {},
   "outputs": [
    {
     "name": "stdout",
     "output_type": "stream",
     "text": [
      "+----------------------------+\n",
      "|email                       |\n",
      "+----------------------------+\n",
      "|isnaddon0@prlog.org         |\n",
      "|jmurton2@pen.io             |\n",
      "|fnanni3@ocn.ne.jp           |\n",
      "|kjeavons8@bbc.co.uk         |\n",
      "|roret9@mozilla.org          |\n",
      "|ctrevaskusd@jalbum.net      |\n",
      "|drustedi@github.io          |\n",
      "|gfitzgibbonj@amazon.de      |\n",
      "|adanilishink@i2i.jp         |\n",
      "|lbreakeym@nsw.gov.au        |\n",
      "|plowcocko@usa.gov           |\n",
      "|cvoulsp@cpanel.net          |\n",
      "|zbasekeq@timesonline.co.uk  |\n",
      "|eallittt@google.ca          |\n",
      "|kphliponz@apache.org        |\n",
      "|cdugall10@cornell.edu       |\n",
      "|cstackbridge11@oaic.gov.au  |\n",
      "|lfronks16@sakura.ne.jp      |\n",
      "|mcappleman1c@opensource.org |\n",
      "|phosier1f@tuttocitta.it     |\n",
      "|whannant1i@mit.edu          |\n",
      "|ftoovey1k@hud.gov           |\n",
      "|nwhitmore1l@miitbeian.gov.cn|\n",
      "|mvolett1p@unesco.org        |\n",
      "|rlebourn1w@infoseek.co.jp   |\n",
      "|cstrettle1x@noaa.gov        |\n",
      "|ewhiteman1y@nyu.edu         |\n",
      "|toiseau28@nsw.gov.au        |\n",
      "|bscarse2d@edublogs.org      |\n",
      "|anys2e@edublogs.org         |\n",
      "|pkluge2g@odnoklassniki.ru   |\n",
      "|srannells2j@edublogs.org    |\n",
      "|marnaudi2k@prlog.org        |\n",
      "|eperroni2l@washington.edu   |\n",
      "|jhugland2o@cbc.ca           |\n",
      "|gpatershall2p@pen.io        |\n",
      "|dhazlegrove2q@state.gov     |\n",
      "|jweld2u@yandex.ru           |\n",
      "|abartoleyn32@cam.ac.uk      |\n",
      "|bgrayer35@last.fm           |\n",
      "|elindhe39@irs.gov           |\n",
      "|mberdale3a@hhs.gov          |\n",
      "|kglas3b@ustream.tv          |\n",
      "|ebiasio3c@webeden.co.uk     |\n",
      "|echetwin3d@seesaa.net       |\n",
      "|cgaitone3e@tiny.cc          |\n",
      "|gsearsby3g@arizona.edu      |\n",
      "|bboddis3h@123-reg.co.uk     |\n",
      "|sleibold3l@usgs.gov         |\n",
      "|mdwight3m@flavors.me        |\n",
      "|lmytton3o@berkeley.edu      |\n",
      "|qgerleit3p@behance.net      |\n",
      "|agarmey3u@unicef.org        |\n",
      "|hmoynham3w@google.ru        |\n",
      "|rbuffham3z@npr.org          |\n",
      "|abazek40@icio.us            |\n",
      "|dbisson42@hhs.gov           |\n",
      "|gmilmith46@google.co.uk     |\n",
      "|pbeadell49@tamu.edu         |\n",
      "|oroussel4b@i2i.jp           |\n",
      "|hgoaks4c@arizona.edu        |\n",
      "|chickisson4e@free.fr        |\n",
      "|aharkes4h@slideshare.net    |\n",
      "|ncuree4k@miitbeian.gov.cn   |\n",
      "|emccaw4m@epa.gov            |\n",
      "|cwigmore4n@i2i.jp           |\n",
      "|norbon4o@sourceforge.net    |\n",
      "|mtoone4q@ed.gov             |\n",
      "|lringsell4r@craigslist.org  |\n",
      "|bbeautyman4u@uiuc.edu       |\n",
      "|cmews4z@miitbeian.gov.cn    |\n",
      "|tmillyard53@seesaa.net      |\n",
      "|dgrigg56@ustream.tv         |\n",
      "|jmeiklem5a@abc.net.au       |\n",
      "|tfishley5b@i2i.jp           |\n",
      "|briply5e@usda.gov           |\n",
      "|ohastler5k@odnoklassniki.ru |\n",
      "|mleirmonth5m@tiny.cc        |\n",
      "|alawland5n@princeton.edu    |\n",
      "|kspiller5o@slashdot.org     |\n",
      "|apeperell5t@state.gov       |\n",
      "|jconnow5v@soup.io           |\n",
      "|alinstead5y@msu.edu         |\n",
      "|dpigram62@shop-pro.jp       |\n",
      "|ghighwood67@google.co.jp    |\n",
      "|ecockman6a@bbc.co.uk        |\n",
      "|gcolafate6c@gmpg.org        |\n",
      "|crentilll6l@so-net.ne.jp    |\n",
      "|lmaccaghan6q@whitehouse.gov |\n",
      "|asearle6y@gnu.org           |\n",
      "|egriffoen70@123-reg.co.uk   |\n",
      "|gdwyr71@amazon.co.jp        |\n",
      "|smorfell72@so-net.ne.jp     |\n",
      "|kdodshun74@google.fr        |\n",
      "|nsclater7d@123-reg.co.uk    |\n",
      "|mcasin7g@wikimedia.org      |\n",
      "|ascothron7h@ustream.tv      |\n",
      "|dgalpin7i@wisc.edu          |\n",
      "|psilverwood7j@ftc.gov       |\n",
      "|wlang7k@edublogs.org        |\n",
      "+----------------------------+\n",
      "only showing top 100 rows\n",
      "\n"
     ]
    }
   ],
   "source": [
    "data.select(col(\"apellid@_text\"), col(\"nombre_text\")).\n",
    "filter(!col(\"apellid@_text\").contains(\"!\") && col(\"apellid@_text\").isNotNull && !col(\"apellid@_text\").rlike(\".*\\\\.?[0-9]+\\\\..*\"))\n",
    ".withColumn(\"email\", concat(col(\"nombre_text\"), lit(\"@\"), col(\"apellid@_text\")))\n",
    ".select(\"email\").show(100, false)\n"
   ]
  }
 ],
 "metadata": {
  "kernelspec": {
   "display_name": "spylon-kernel",
   "language": "scala",
   "name": "spylon-kernel"
  },
  "language_info": {
   "codemirror_mode": "text/x-scala",
   "file_extension": ".scala",
   "help_links": [
    {
     "text": "MetaKernel Magics",
     "url": "https://metakernel.readthedocs.io/en/latest/source/README.html"
    }
   ],
   "mimetype": "text/x-scala",
   "name": "scala",
   "pygments_lexer": "scala",
   "version": "0.4.1"
  }
 },
 "nbformat": 4,
 "nbformat_minor": 2
}
