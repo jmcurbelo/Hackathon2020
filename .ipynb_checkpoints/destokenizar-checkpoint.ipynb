{
 "cells": [
  {
   "cell_type": "code",
   "execution_count": 1,
   "metadata": {},
   "outputs": [
    {
     "data": {
      "text/plain": [
       "Intitializing Scala interpreter ..."
      ]
     },
     "metadata": {},
     "output_type": "display_data"
    },
    {
     "data": {
      "text/plain": [
       "Spark Web UI available at http://192.168.1.71:4040\n",
       "SparkContext available as 'sc' (version = 2.4.6, master = local[*], app id = local-1603005463929)\n",
       "SparkSession available as 'spark'\n"
      ]
     },
     "metadata": {},
     "output_type": "display_data"
    },
    {
     "data": {
      "text/plain": [
       "import org.apache.spark.sql.functions.{conv, lower, concat, upper, lit}\n",
       "import org.apache.spark.sql.types.IntegerType\n"
      ]
     },
     "execution_count": 1,
     "metadata": {},
     "output_type": "execute_result"
    }
   ],
   "source": [
    "import org.apache.spark.sql.functions.{conv, lower, concat, upper, lit}\n",
    "import org.apache.spark.sql.types.IntegerType"
   ]
  },
  {
   "cell_type": "markdown",
   "metadata": {},
   "source": [
    "# Funciones UDFs"
   ]
  },
  {
   "cell_type": "code",
   "execution_count": 2,
   "metadata": {},
   "outputs": [
    {
     "data": {
      "text/plain": [
       "parseName: org.apache.spark.sql.expressions.UserDefinedFunction\n",
       "nss: org.apache.spark.sql.expressions.UserDefinedFunction\n"
      ]
     },
     "execution_count": 2,
     "metadata": {},
     "output_type": "execute_result"
    }
   ],
   "source": [
    "//Parsea el nombre\n",
    "def parseName = udf((nombre: String, pattern: String) => {    \n",
    "    val lower = pattern.substring(2).toLowerCase()\n",
    "    val index = nombre.indexOf(lower)\n",
    "    val name = nombre.substring(0, index)\n",
    "    val apellido = nombre.substring(index)\n",
    "    (name, apellido)\n",
    "})\n",
    "\n",
    "//Crea el número de seguridad social\n",
    "def nss = udf((numero: String) => {    \n",
    "    \"0\" * (11 - numero.length()) + numero\n",
    "})"
   ]
  },
  {
   "cell_type": "code",
   "execution_count": 3,
   "metadata": {},
   "outputs": [
    {
     "data": {
      "text/plain": [
       "data: org.apache.spark.sql.DataFrame = [id_cliente: string, NU_CTE: string ... 30 more fields]\n"
      ]
     },
     "execution_count": 3,
     "metadata": {},
     "output_type": "execute_result"
    }
   ],
   "source": [
    "val data = spark.read.option(\"header\",\"true\").csv(\"/Users/jose/Downloads/t_mdco_tfra400_Base3M_1.0.csv\")\n"
   ]
  },
  {
   "cell_type": "markdown",
   "metadata": {},
   "source": [
    "# UDF nombre"
   ]
  },
  {
   "cell_type": "code",
   "execution_count": 61,
   "metadata": {},
   "outputs": [
    {
     "data": {
      "text/plain": [
       "parseName: org.apache.spark.sql.expressions.UserDefinedFunction\n"
      ]
     },
     "execution_count": 61,
     "metadata": {},
     "output_type": "execute_result"
    }
   ],
   "source": [
    "\n",
    "def parseName = udf((nombre: String, pattern: String) => {    \n",
    "    val lower = pattern.substring(2).toLowerCase()\n",
    "    val index = nombre.indexOf(lower)\n",
    "    val name = nombre.substring(0, index)\n",
    "    val apellido = nombre.substring(index)\n",
    "    (name, apellido)\n",
    "})"
   ]
  },
  {
   "cell_type": "markdown",
   "metadata": {},
   "source": [
    "# Entregable"
   ]
  },
  {
   "cell_type": "code",
   "execution_count": 7,
   "metadata": {},
   "outputs": [
    {
     "name": "stdout",
     "output_type": "stream",
     "text": [
      "+--------------------+--------+------------------+-----------+-------------+\n",
      "|     nombre_apellido|   fecha|              CURP|        NSS|          RFC|\n",
      "+--------------------+--------+------------------+-----------+-------------+\n",
      "|  [iolande, snaddon]|19640402|SNSI640402HDFKLX84|04601204149|SNSI640402AD3|\n",
      "|   [jemie, peachman]|19820713|PEPJ820713MDFLDH08|71680198205|PEPJ820713MS9|\n",
      "|    [justus, murton]|19580905|MUMJ580905HDFUMM71|56513681524|MUMJ580905NU7|\n",
      "|   [forester, nanni]|19530805|NANF530805MDFRRL32|31258182058|NANF530805EU6|\n",
      "|  [nathalia, chiles]|19800731|CHCN800731HDFSYX28|31080683464|CHCN800731UC7|\n",
      "|       [cal, ellson]|19900630|ELEC900630HDFTPS13|84616495835|ELEC900630IL7|\n",
      "| [domenic, limpenny]|19750609|LILD750609MDFISQ18|86556998718|LILD750609XU6|\n",
      "|[mallorie, edgerley]|19681018|EDEM681018HDFMMQ33|66108123054|EDEM681018UM1|\n",
      "|    [kally, jeavons]|19540921|JEJK540921MDFHUV27|07811184707|JEJK540921IW3|\n",
      "|       [ricki, oret]|19800411|OROR800411MDFRNA00|08712877215|OROR800411IN6|\n",
      "|     [mina, sleeman]|19300214|SLSM300214MDFYTY34|54395493502|SLSM300214KE2|\n",
      "|  [shamus, delacote]|19320711|DEDS320711HDFVCS05|51748461432|DEDS320711CV9|\n",
      "|   [verne, duligall]|19370510|DUDV370510HDFMQQ90|83800250068|DUDV370510YX0|\n",
      "|[cherish, trevaskus]|19730408|TRTC730408HDFGVA94|59688155470|TRTC730408PR7|\n",
      "|     [alvy, whinray]|19250115|WHWA250115MDFVCQ47|94055305858|WHWA250115SL9|\n",
      "|      [pepe, naulty]|19311201|NANP311201HDFEVG04|21177113384|NANP311201VE9|\n",
      "|       [alyss, buss]|19931005|BUBA931005HDFFGI66|40547313472|BUBA931005AH4|\n",
      "|   [milzie, sellack]|19921022|SESM921022HDFQLS62|56892970729|SESM921022SC2|\n",
      "|    [dannye, rusted]|19691128|RURD691128HDFDQL93|58596818732|RURD691128HJ9|\n",
      "|[geneva, fitzgibbon]|19801027|FIFG801027HDFZVB08|88197463893|FIFG801027AI8|\n",
      "+--------------------+--------+------------------+-----------+-------------+\n",
      "only showing top 20 rows\n",
      "\n"
     ]
    },
    {
     "data": {
      "text/plain": [
       "fecha: org.apache.spark.sql.DataFrame = [nombre_apellido: struct<_1: string, _2: string>, fecha: string ... 3 more fields]\n"
      ]
     },
     "execution_count": 7,
     "metadata": {},
     "output_type": "execute_result"
    }
   ],
   "source": [
    "val fecha = data.select(\n",
    "    parseName($\"desc_text\", $\"desc_id\").as(\"nombre_apellido\"),\n",
    "    concat(col(\"`registro.xls`\").substr(8,6), col(\"clave_id\").substr(5,2)).as(\"fecha\"),\n",
    "    concat(upper(col(\"desc_id\")).substr(3,2),\n",
    "           upper(col(\"desc_id\")).substr(3,1),\n",
    "           upper(col(\"desc_id\")).substr(1,1),\n",
    "           concat(col(\"`registro.xls`\").substr(10,4), col(\"clave_id\").substr(5,2)),\n",
    "           col(\"agrupacion_id\"),\n",
    "           col(\"CURP\")     \n",
    "          ).as(\"CURP\"),\n",
    "    nss(conv(col(\"NSS\"),8,10)).as(\"NSS\"),\n",
    "    concat(upper(col(\"desc_id\")).substr(3,2),\n",
    "           upper(col(\"desc_id\")).substr(3,1),\n",
    "           upper(col(\"desc_id\")).substr(1,1),\n",
    "           concat(col(\"`registro.xls`\").substr(10,4), col(\"clave_id\").substr(5,2)),\n",
    "           col(\"producto_id\")\n",
    "           ).as(\"RFC\")\n",
    ")\n",
    "fecha.show"
   ]
  },
  {
   "cell_type": "markdown",
   "metadata": {},
   "source": [
    "# Correo"
   ]
  },
  {
   "cell_type": "code",
   "execution_count": 5,
   "metadata": {},
   "outputs": [
    {
     "name": "stdout",
     "output_type": "stream",
     "text": [
      "+----------------------------+\n",
      "|email                       |\n",
      "+----------------------------+\n",
      "|isnaddon0@prlog.org         |\n",
      "|jmurton2@pen.io             |\n",
      "|fnanni3@ocn.ne.jp           |\n",
      "|kjeavons8@bbc.co.uk         |\n",
      "|roret9@mozilla.org          |\n",
      "|ctrevaskusd@jalbum.net      |\n",
      "|drustedi@github.io          |\n",
      "|gfitzgibbonj@amazon.de      |\n",
      "|adanilishink@i2i.jp         |\n",
      "|lbreakeym@nsw.gov.au        |\n",
      "|plowcocko@usa.gov           |\n",
      "|cvoulsp@cpanel.net          |\n",
      "|zbasekeq@timesonline.co.uk  |\n",
      "|eallittt@google.ca          |\n",
      "|kphliponz@apache.org        |\n",
      "|cdugall10@cornell.edu       |\n",
      "|cstackbridge11@oaic.gov.au  |\n",
      "|lfronks16@sakura.ne.jp      |\n",
      "|mcappleman1c@opensource.org |\n",
      "|phosier1f@tuttocitta.it     |\n",
      "|whannant1i@mit.edu          |\n",
      "|ftoovey1k@hud.gov           |\n",
      "|nwhitmore1l@miitbeian.gov.cn|\n",
      "|mvolett1p@unesco.org        |\n",
      "|rlebourn1w@infoseek.co.jp   |\n",
      "|cstrettle1x@noaa.gov        |\n",
      "|ewhiteman1y@nyu.edu         |\n",
      "|toiseau28@nsw.gov.au        |\n",
      "|bscarse2d@edublogs.org      |\n",
      "|anys2e@edublogs.org         |\n",
      "|pkluge2g@odnoklassniki.ru   |\n",
      "|srannells2j@edublogs.org    |\n",
      "|marnaudi2k@prlog.org        |\n",
      "|eperroni2l@washington.edu   |\n",
      "|jhugland2o@cbc.ca           |\n",
      "|gpatershall2p@pen.io        |\n",
      "|dhazlegrove2q@state.gov     |\n",
      "|jweld2u@yandex.ru           |\n",
      "|abartoleyn32@cam.ac.uk      |\n",
      "|bgrayer35@last.fm           |\n",
      "|elindhe39@irs.gov           |\n",
      "|mberdale3a@hhs.gov          |\n",
      "|kglas3b@ustream.tv          |\n",
      "|ebiasio3c@webeden.co.uk     |\n",
      "|echetwin3d@seesaa.net       |\n",
      "|cgaitone3e@tiny.cc          |\n",
      "|gsearsby3g@arizona.edu      |\n",
      "|bboddis3h@123-reg.co.uk     |\n",
      "|sleibold3l@usgs.gov         |\n",
      "|mdwight3m@flavors.me        |\n",
      "|lmytton3o@berkeley.edu      |\n",
      "|qgerleit3p@behance.net      |\n",
      "|agarmey3u@unicef.org        |\n",
      "|hmoynham3w@google.ru        |\n",
      "|rbuffham3z@npr.org          |\n",
      "|abazek40@icio.us            |\n",
      "|dbisson42@hhs.gov           |\n",
      "|gmilmith46@google.co.uk     |\n",
      "|pbeadell49@tamu.edu         |\n",
      "|oroussel4b@i2i.jp           |\n",
      "|hgoaks4c@arizona.edu        |\n",
      "|chickisson4e@free.fr        |\n",
      "|aharkes4h@slideshare.net    |\n",
      "|ncuree4k@miitbeian.gov.cn   |\n",
      "|emccaw4m@epa.gov            |\n",
      "|cwigmore4n@i2i.jp           |\n",
      "|norbon4o@sourceforge.net    |\n",
      "|mtoone4q@ed.gov             |\n",
      "|lringsell4r@craigslist.org  |\n",
      "|bbeautyman4u@uiuc.edu       |\n",
      "|cmews4z@miitbeian.gov.cn    |\n",
      "|tmillyard53@seesaa.net      |\n",
      "|dgrigg56@ustream.tv         |\n",
      "|jmeiklem5a@abc.net.au       |\n",
      "|tfishley5b@i2i.jp           |\n",
      "|briply5e@usda.gov           |\n",
      "|ohastler5k@odnoklassniki.ru |\n",
      "|mleirmonth5m@tiny.cc        |\n",
      "|alawland5n@princeton.edu    |\n",
      "|kspiller5o@slashdot.org     |\n",
      "|apeperell5t@state.gov       |\n",
      "|jconnow5v@soup.io           |\n",
      "|alinstead5y@msu.edu         |\n",
      "|dpigram62@shop-pro.jp       |\n",
      "|ghighwood67@google.co.jp    |\n",
      "|ecockman6a@bbc.co.uk        |\n",
      "|gcolafate6c@gmpg.org        |\n",
      "|crentilll6l@so-net.ne.jp    |\n",
      "|lmaccaghan6q@whitehouse.gov |\n",
      "|asearle6y@gnu.org           |\n",
      "|egriffoen70@123-reg.co.uk   |\n",
      "|gdwyr71@amazon.co.jp        |\n",
      "|smorfell72@so-net.ne.jp     |\n",
      "|kdodshun74@google.fr        |\n",
      "|nsclater7d@123-reg.co.uk    |\n",
      "|mcasin7g@wikimedia.org      |\n",
      "|ascothron7h@ustream.tv      |\n",
      "|dgalpin7i@wisc.edu          |\n",
      "|psilverwood7j@ftc.gov       |\n",
      "|wlang7k@edublogs.org        |\n",
      "+----------------------------+\n",
      "only showing top 100 rows\n",
      "\n"
     ]
    }
   ],
   "source": [
    "data.select(col(\"apellid@_text\"), col(\"nombre_text\")).\n",
    "filter(!col(\"apellid@_text\").contains(\"!\") && col(\"apellid@_text\").isNotNull && !col(\"apellid@_text\").rlike(\".*\\\\.?[0-9]+\\\\..*\"))\n",
    ".withColumn(\"email\", concat(col(\"nombre_text\"), lit(\"@\"), col(\"apellid@_text\")))\n",
    ".select(\"email\").show(100, false)\n"
   ]
  },
  {
   "cell_type": "code",
   "execution_count": 6,
   "metadata": {},
   "outputs": [
    {
     "name": "stdout",
     "output_type": "stream",
     "text": [
      "+-----------------------+\n",
      "|conv(pasaporte, 16, 10)|\n",
      "+-----------------------+\n",
      "|96686099162290543      |\n",
      "|null                   |\n",
      "|35250537203699050      |\n",
      "|null                   |\n",
      "|6542376803149778       |\n",
      "|71783326331098657      |\n",
      "|null                   |\n",
      "|54324583194209803      |\n",
      "|25990911717048213      |\n",
      "|80313686465195174      |\n",
      "|null                   |\n",
      "|null                   |\n",
      "|null                   |\n",
      "|51678116527369965      |\n",
      "|16329558420038226      |\n",
      "|76954619681008904      |\n",
      "|16896793426138015      |\n",
      "|77110039167190051      |\n",
      "|55898429979040446      |\n",
      "|4303257813690709       |\n",
      "|81643396228784662      |\n",
      "|28307951460702183      |\n",
      "|null                   |\n",
      "|null                   |\n",
      "|69810338638800367      |\n",
      "|69531373565914682      |\n",
      "|97519339610037240      |\n",
      "|2935357306659747       |\n",
      "|null                   |\n",
      "|25483182574449972      |\n",
      "|77534161341650448      |\n",
      "|574158245867943        |\n",
      "|40176829822154285      |\n",
      "|null                   |\n",
      "|24641203200769887      |\n",
      "|96224964797934998      |\n",
      "|14223501740005216      |\n",
      "|39720487569884316      |\n",
      "|82144775675056025      |\n",
      "|null                   |\n",
      "|99195568552926679      |\n",
      "|44443290743158340      |\n",
      "|null                   |\n",
      "|null                   |\n",
      "|null                   |\n",
      "|51913518945965121      |\n",
      "|null                   |\n",
      "|null                   |\n",
      "|74449566789112312      |\n",
      "|97596861940982078      |\n",
      "+-----------------------+\n",
      "only showing top 50 rows\n",
      "\n"
     ]
    }
   ],
   "source": [
    "data.select(\n",
    "    conv(col(\"pasaporte\"),16,10)\n",
    ").show(50, false)"
   ]
  },
  {
   "cell_type": "code",
   "execution_count": 12,
   "metadata": {},
   "outputs": [
    {
     "name": "stdout",
     "output_type": "stream",
     "text": [
      "+-----------------+\n",
      "|test             |\n",
      "+-----------------+\n",
      "|4152 547077640402|\n",
      "|4152 547156820713|\n",
      "|4152 554629580905|\n",
      "|4152 493161530805|\n",
      "|4152 544053800731|\n",
      "|4152 554629900630|\n",
      "|4152 494398750609|\n",
      "|4152 547492681018|\n",
      "|4152 455515540921|\n",
      "|4152 547077800411|\n",
      "|4152 547492300214|\n",
      "|4152 477210320711|\n",
      "|4152 542010370510|\n",
      "|4152 547492730408|\n",
      "|4152 477213250115|\n",
      "|4152 547095311201|\n",
      "|null             |\n",
      "|4152 547155921022|\n",
      "|4152 455515691128|\n",
      "|4152 547086801027|\n",
      "|4152 547156440330|\n",
      "|4152 477292650118|\n",
      "|4152 494398460819|\n",
      "|4152 544053600228|\n",
      "|4152 477210400125|\n",
      "|4152 544053811121|\n",
      "|null             |\n",
      "|4152 477213630716|\n",
      "|4152 522498650311|\n",
      "|4152 554629760428|\n",
      "|null             |\n",
      "|4152 535875591113|\n",
      "|4152 547077590418|\n",
      "|null             |\n",
      "|4152 554629950211|\n",
      "|4152 535875750210|\n",
      "|4152 477212500705|\n",
      "|null             |\n",
      "|4152 493162891231|\n",
      "|4152 547492290126|\n",
      "|4152 554629720929|\n",
      "|4152 544053891203|\n",
      "|4152 542015320507|\n",
      "|null             |\n",
      "|4152 547086590824|\n",
      "|4152 547086610405|\n",
      "|4152 542010680924|\n",
      "|4152 522498810213|\n",
      "|4152 418090280515|\n",
      "|null             |\n",
      "+-----------------+\n",
      "only showing top 50 rows\n",
      "\n"
     ]
    }
   ],
   "source": [
    "data.select(\n",
    "concat(lit(\"4152\"), lit(\" \"),  conv(concat(col(\"producto_1_number\"), col(\"bin_2_number\")), 2, 10), col(\"clave_id\"))     .as(\"test\")\n",
    ").show(50, false)"
   ]
  },
  {
   "cell_type": "code",
   "execution_count": 14,
   "metadata": {},
   "outputs": [
    {
     "name": "stdout",
     "output_type": "stream",
     "text": [
      "+--------+-------------------+------------+\n",
      "|NU_CTE  |clave_primaria_text|tel_id      |\n",
      "+--------+-------------------+------------+\n",
      "|B3477219|SE(SBS)A7A-61ZS    |19-7517 5194|\n",
      "|W0818632|ZE0(76E)96A-07A6   |97-9572 4516|\n",
      "|Z4396398|B6(S9E)BAE-0B6A    |17-7600 8904|\n",
      "|L1839991|6E(SZ9)B6S-ZEZ0    |87-6325 2840|\n",
      "|Z4139418|B6(61Z)B7Z-ESEE    |98-3249 7495|\n",
      "|F6640441|EE(B91)970-16S0    |55-9384 1709|\n",
      "|U7641302|B6(1BE)SAA-E9SZ    |94-7327 4098|\n",
      "|S6121646|S0Z(60A)70S-A6BB   |97-0225 7768|\n",
      "|S7098414|6E(ASS)AZS-Z07E    |98-6917 5367|\n",
      "|R0138005|66(SEE)SSA-ZSS6    |85-1821 7199|\n",
      "|Q6774468|1(Z76)16A-6A1A     |31-6814 3636|\n",
      "|A8967623|ES1(69S)Z90-9Z0B   |20-6815 5979|\n",
      "|B1146428|1(B66)191-7AES     |93-6060 7542|\n",
      "|U8493385|6Z(96B)66B-0S0S    |92-4735 2898|\n",
      "|V3606864|A6(91S)1S7-61SZ    |38-7498 5264|\n",
      "|C6784961|B6(Z1Z)6A1-6SE7    |96-8144 7678|\n",
      "|G6324005|BB0(B01)ZB1-7SEE   |79-2762 9661|\n",
      "|Q5701233|ZS6(A6B)1B0-777B   |36-2905 7239|\n",
      "|29484443|1(A07)ESZ-1AE1     |54-0642 4744|\n",
      "|55538779|6Z(A07)S61-9BZB    |18-7554 9628|\n",
      "|K4701166|S7(SZB)777-Z1SB    |49-8548 5181|\n",
      "|78594871|7(B19)BBA-SE91     |39-6351 7275|\n",
      "|H6631246|ZEA(6ZA)6AE-E9Z9   |89-1589 0189|\n",
      "|F9383398|SZ(7Z0)7S0-EA1Z    |90-2358 5389|\n",
      "|F4688458|B6(A70)ZAZ-69AZ    |92-6943 9497|\n",
      "|94002958|EBZ(BAA)S97-90BA   |17-5809 7981|\n",
      "|D7417541|1(Z1S)E07-7SS1     |59-0441 7419|\n",
      "|J8887775|S0A(S7A)BZZ-A6AS   |86-2112 4856|\n",
      "|64318999|EB9(A09)A76-E19B   |67-4889 0833|\n",
      "|W7929844|S1(BBZ)E1B-ZZ6B    |71-0194 4481|\n",
      "|K6367124|SA(191)Z0Z-0BZ6    |88-9907 2760|\n",
      "|O0957397|EB7(BS9)Z16-6BE0   |50-8183 1814|\n",
      "|80391561|99A(S0E)AZB-BE1E   |29-9636 3594|\n",
      "|07715162|B6(7Z9)7E0-09EA    |55-1015 9015|\n",
      "|U6454448|SZ(SZZ)9BB-E61A    |81-9815 8988|\n",
      "|D7790163|EZ(A61)7E9-67SS    |04-0995 8690|\n",
      "|N9566178|BS6(96Z)1EZ-1ZE9   |51-3573 0305|\n",
      "|V5687130|66(6EA)BS0-96A7    |61-4876 6657|\n",
      "|G4645397|S7(A0A)S10-S60Z    |06-1702 5898|\n",
      "|V8783259|SS(9Z6)7S0-E90E    |62-7910 8412|\n",
      "|P8919276|B6(E71)7BE-B7Z0    |34-3868 5308|\n",
      "|M3997349|6Z(BAB)A17-E0Z7    |19-2698 7923|\n",
      "|H2202687|6Z(S7B)SZ9-B6EA    |30-2566 3859|\n",
      "|V9226507|1(S01)AS6-690B     |20-1343 5111|\n",
      "|15828401|EE(609)E76-SA91    |91-6948 7528|\n",
      "|X4201935|E0(1SE)SEA-99AZ    |54-0983 1493|\n",
      "|F9394743|1(B1S)A99-A9ZB     |50-0415 9506|\n",
      "|B3684238|7(9A1)7E1-S190     |68-6679 8208|\n",
      "|C1113499|S7(AZ0)S01-SZ9S    |55-5091 7911|\n",
      "|I2912162|6Z(9ZZ)Z7S-9S0Z    |42-1276 4953|\n",
      "+--------+-------------------+------------+\n",
      "only showing top 50 rows\n",
      "\n"
     ]
    }
   ],
   "source": [
    "data.select(\n",
    "    col(\"NU_CTE\"),\n",
    "col(\"clave_primaria_text\"), col(\"tel_id\")\n",
    ").show(50, false)"
   ]
  }
 ],
 "metadata": {
  "kernelspec": {
   "display_name": "spylon-kernel",
   "language": "scala",
   "name": "spylon-kernel"
  },
  "language_info": {
   "codemirror_mode": "text/x-scala",
   "file_extension": ".scala",
   "help_links": [
    {
     "text": "MetaKernel Magics",
     "url": "https://metakernel.readthedocs.io/en/latest/source/README.html"
    }
   ],
   "mimetype": "text/x-scala",
   "name": "scala",
   "pygments_lexer": "scala",
   "version": "0.4.1"
  }
 },
 "nbformat": 4,
 "nbformat_minor": 2
}
